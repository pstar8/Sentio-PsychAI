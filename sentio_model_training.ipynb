{
 "cells": [
  {
   "cell_type": "code",
   "execution_count": 65,
   "id": "b89287cd-2438-4da9-af1a-6318643734f8",
   "metadata": {},
   "outputs": [],
   "source": [
    "import pandas as pd\n",
    "import numpy as np\n",
    "import matplotlib.pyplot as plt\n",
    "import seaborn as sns\n",
    "from sklearn.model_selection import train_test_split\n",
    "from sklearn.preprocessing import LabelEncoder, StandardScaler\n",
    "from sklearn.ensemble import RandomForestClassifier\n",
    "from sklearn.metrics import classification_report, confusion_matrix\n",
    "import joblib\n",
    "import transformers"
   ]
  },
  {
   "cell_type": "code",
   "execution_count": 66,
   "id": "3f90576b-21a1-4b87-8334-122e8ce52820",
   "metadata": {},
   "outputs": [],
   "source": [
    "import pandas as pd\n",
    "\n",
    "df1 = pd.read_csv(\"./database/Synthetic_Data_10K.csv\")\n",
    "df2 = pd.read_csv(\"./database/Interview_Data_6K.csv\")"
   ]
  },
  {
   "cell_type": "code",
   "execution_count": 67,
   "id": "fdefa99a-357c-4f12-b35e-2472f2ac6fce",
   "metadata": {},
   "outputs": [
    {
     "data": {
      "text/plain": [
       "(9774, 3)"
      ]
     },
     "execution_count": 67,
     "metadata": {},
     "output_type": "execute_result"
    }
   ],
   "source": [
    "df1.shape"
   ]
  },
  {
   "cell_type": "code",
   "execution_count": 68,
   "id": "ac99a375-8187-4bba-8e88-393ce25904aa",
   "metadata": {},
   "outputs": [
    {
     "data": {
      "text/plain": [
       "(6310, 3)"
      ]
     },
     "execution_count": 68,
     "metadata": {},
     "output_type": "execute_result"
    }
   ],
   "source": [
    "df2.shape"
   ]
  },
  {
   "cell_type": "code",
   "execution_count": 69,
   "id": "994d504b-832c-4567-a991-4f5cab466876",
   "metadata": {},
   "outputs": [
    {
     "name": "stdout",
     "output_type": "stream",
     "text": [
      "Index(['instruction', 'input', 'output'], dtype='object')\n",
      "Index(['instruction', 'input', 'output'], dtype='object')\n"
     ]
    }
   ],
   "source": [
    "print(df1.columns)\n",
    "print(df2.columns)"
   ]
  },
  {
   "cell_type": "code",
   "execution_count": 70,
   "id": "fdc6cdb7-91d8-46d9-a217-cbdf0a4209bd",
   "metadata": {},
   "outputs": [
    {
     "name": "stdout",
     "output_type": "stream",
     "text": [
      "Common columns: Index(['instruction', 'input', 'output'], dtype='object')\n"
     ]
    }
   ],
   "source": [
    "common_cols = df1.columns.intersection(df2.columns)\n",
    "print(\"Common columns:\", common_cols)"
   ]
  },
  {
   "cell_type": "code",
   "execution_count": 71,
   "id": "5a88f706-e161-4281-a76d-9e71a503dae2",
   "metadata": {},
   "outputs": [],
   "source": [
    "df_combined = pd.concat([df1, df2], ignore_index=True)"
   ]
  },
  {
   "cell_type": "code",
   "execution_count": 72,
   "id": "70a79262-a0ba-46cf-9004-1981ab0f662e",
   "metadata": {},
   "outputs": [
    {
     "data": {
      "text/plain": [
       "(16084, 3)"
      ]
     },
     "execution_count": 72,
     "metadata": {},
     "output_type": "execute_result"
    }
   ],
   "source": [
    "df_combined.shape"
   ]
  },
  {
   "cell_type": "code",
   "execution_count": 73,
   "id": "f6adcf13-e7c9-4107-8d67-e7b85af495f4",
   "metadata": {},
   "outputs": [
    {
     "name": "stdout",
     "output_type": "stream",
     "text": [
      "                                         instruction  \\\n",
      "0  You are a helpful mental health counselling as...   \n",
      "1  You are a helpful mental health counselling as...   \n",
      "2  You are a helpful mental health counselling as...   \n",
      "3  You are a helpful mental health counselling as...   \n",
      "4  You are a helpful mental health counselling as...   \n",
      "\n",
      "                                               input  \\\n",
      "0  I think I might be developing a substance abus...   \n",
      "1  Parenting has become such a challenge for me. ...   \n",
      "2  Intimacy has always been a struggle for me. I ...   \n",
      "3  I've been struggling with substance abuse for ...   \n",
      "4  Being a parent is overwhelming and exhausting....   \n",
      "\n",
      "                                              output  \n",
      "0  I'm really glad that you reached out and share...  \n",
      "1  I can understand how challenging parenting can...  \n",
      "2  I can understand how challenging it must be fo...  \n",
      "3  I'm really glad that you reached out and share...  \n",
      "4  Parenting can definitely be overwhelming and e...  \n"
     ]
    }
   ],
   "source": [
    "import pandas as pd\n",
    "df_combined.head()\n",
    "print(df_combined.head())"
   ]
  },
  {
   "cell_type": "code",
   "execution_count": 74,
   "id": "ab2196a7-92ef-472b-8087-66c4111528c4",
   "metadata": {},
   "outputs": [],
   "source": [
    "df_combined['input'] = df_combined['input'].astype(str).fillna(\"I'm fine\")\n"
   ]
  },
  {
   "cell_type": "code",
   "execution_count": 75,
   "id": "62979953-120f-4e9f-bac0-55d28316857e",
   "metadata": {},
   "outputs": [],
   "source": [
    "anxiety_keywords = r\"anxiety|anxious|panic|nervous|worried|racing thoughts|chest tightness|heart pounding|restless\"\n",
    "depression_keywords = r\"depressed|hopeless|empty|sad|numb|lost interest|no energy\"\n",
    "eating_disorder_keywords = r\"eating disorder|binge|purge|bulimia|anorexia|restricting|body image\"\n",
    "family_issues_keywords = r\"family problems|siblings fight|step siblings fight|parents fights|childhood abuse|parents fighting|scared as a child|early trauma\"\n",
    "sleeping_disorder_keywords = r\"troubles sleeping|insomania|sleeping disorders|can’t sleep|nightmares| disturbed sleep|tired|waking up\"\n",
    "chronic_stress_keywords = r\"burned out|exhausted|too much pressure|overwhelmed|workplace stress|chronic stress|stressed|very stressed|overwhelmed|really stressed\"\n",
    "worry_keywords = r\"worries|hopeless|helpless|lost|uncertain|uncertainty|fear\"\n",
    "bipolar_disorder_keywords = r\"mood swings|mania|depressive episodes|energetic|impulsive|irritable|high energy\"\n",
    "ocd_keywords =r\"obsessive|compulsive|obesessive compulsive|rituals|checking|cleaning|intrusive thoughts|repeat actions\"\n",
    "body_dysmorphic_disorder_keywords =r\"hate my appearance|ugly|look wrong|body image|physical flaw|obsessed with looks\"\n",
    "borderline_personality_keywords = r\"fear of abandonment|unstable relationships|impulsive|mood swings|intense emotions\"\n",
    "ptsd_keywords = r\"trauma|flashbacks|nightmares|triggered|assault|abuse|military|fear|avoidance\"\n",
    "social_anxiety_keywords = r\"fear of people|shy|avoid crowds|panic in public|speaking anxiety|judged\"\n",
    "schizophrenia_keywords = r\"hearing voices|delusions|hallucinations|paranoia|disorganized|psychosis\"\n",
    "autism_disorder_keywords = r\"overwhelmed|sensory|routines|socially awkward|communication issues|meltdowns\"\n",
    "dissociative_disorder_keywords = r\"zoning out|out of body|disconnected|memory loss|dissociate|numb\"\n",
    "adhd_keywords = r\"can’t focus|distracted|hyper|impulsive|forgetful|restless\"\n",
    "grief_keywords = r\"loss|passed away|grieving|can't move on|sadness after death\"\n",
    "suicide_keywords = r\"cut myself|suicidal|want to die|no reason to live|hurting myself\"\n",
    "addiction_keywords = r\"addicted|alcohol|drugs|relapse|rehab|can’t stop|withdrawal|cravings\"\n",
    "lse_keywords = r\"not good enough|worthless|no confidence|self-doubt|insecure\"\n",
    "anger_keywords = r\"rage|can’t control anger|lash out|violent|temper|irritability\"\n",
    "relationship_issues_keywords = r\"toxic|break up|cheated|trust issues|abandoned|emotionally unavailable\"\n",
    "caregiver_fatigue_keywords = r\"caring for|overwhelmed by responsibility|parent with illness|burnout from caregiving\"\n",
    "phobia_keywords = r\"phobia|fear of heights|claustrophobic|terrified of insects|irrational fears\"\n",
    "academic_pressure_keywords = r\"school stress|academic anxiety|exams|failing|overwhelmed by studies\""
   ]
  },
  {
   "cell_type": "code",
   "execution_count": 76,
   "id": "23295854-5c21-4914-a79d-a45c00e2f90a",
   "metadata": {},
   "outputs": [],
   "source": [
    "df_combined['has_anxiety'] = df_combined['input'].str.contains(anxiety_keywords, case=False).astype(int)\n",
    "df_combined['has_depression'] = df_combined['input'].str.contains(depression_keywords, case=False).astype(int)\n",
    "df_combined['has_eating_disorder'] = df_combined['input'].str.contains(eating_disorder_keywords, case=False).astype(int)\n",
    "df_combined['family_issues'] = df_combined['input'].str.contains(family_issues_keywords, case=False).astype(int)\n",
    "df_combined['sleeping_disorder'] = df_combined['input'].str.contains(sleeping_disorder_keywords, case=False).astype(int)\n",
    "df_combined['chronic_stress'] = df_combined['input'].str.contains(chronic_stress_keywords, case=False).astype(int)\n",
    "df_combined['worry'] = df_combined['input'].str.contains(worry_keywords, case=False).astype(int)\n",
    "df_combined['bipolar'] = df_combined['input'].str.contains(bipolar_disorder_keywords, case=False).astype(int)\n",
    "df_combined['ocd'] = df_combined['input'].str.contains(ocd_keywords, case=False).astype(int)\n",
    "df_combined['dysmorphic'] = df_combined['input'].str.contains(body_dysmorphic_disorder_keywords, case=False).astype(int)\n",
    "df_combined['borderline_personality'] = df_combined['input'].str.contains(borderline_personality_keywords, case=False).astype(int)\n",
    "df_combined['PTSD'] = df_combined['input'].str.contains(ptsd_keywords, case=False).astype(int)\n",
    "df_combined['social_anxiety'] = df_combined['input'].str.contains(social_anxiety_keywords, case=False).astype(int)\n",
    "df_combined['schizophrenia'] = df_combined['input'].str.contains(schizophrenia_keywords, case=False).astype(int)\n",
    "df_combined['autism_disorder'] = df_combined['input'].str.contains(autism_disorder_keywords, case=False).astype(int)\n",
    "df_combined['dissociative_disorder'] = df_combined['input'].str.contains(dissociative_disorder_keywords, case=False).astype(int)\n",
    "df_combined['ADHD'] = df_combined['input'].str.contains(adhd_keywords, case=False).astype(int)\n",
    "df_combined['grief'] = df_combined['input'].str.contains(grief_keywords, case=False).astype(int)\n",
    "df_combined['suicide'] = df_combined['input'].str.contains(suicide_keywords, case=False).astype(int)\n",
    "df_combined['addiction'] = df_combined['input'].str.contains(addiction_keywords, case=False).astype(int)\n",
    "df_combined['low_self_esteem'] = df_combined['input'].str.contains(lse_keywords, case=False).astype(int)\n",
    "df_combined['anger_issues'] = df_combined['input'].str.contains(anger_keywords, case=False).astype(int)\n",
    "df_combined['relationship_issues'] = df_combined['input'].str.contains(relationship_issues_keywords, case=False).astype(int)\n",
    "df_combined['caregiver_fatigue'] = df_combined['input'].str.contains(caregiver_fatigue_keywords, case=False).astype(int)\n",
    "df_combined['phobias'] = df_combined['input'].str.contains(phobia_keywords, case=False).astype(int)\n",
    "df_combined['academic_pressure'] = df_combined['input'].str.contains(academic_pressure_keywords, case=False).astype(int)\n"
   ]
  },
  {
   "cell_type": "code",
   "execution_count": 77,
   "id": "b2c6b7ac-505f-47cb-a353-703ec00014e7",
   "metadata": {},
   "outputs": [
    {
     "data": {
      "text/plain": [
       "instruction               0\n",
       "input                     0\n",
       "output                    0\n",
       "has_anxiety               0\n",
       "has_depression            0\n",
       "has_eating_disorder       0\n",
       "family_issues             0\n",
       "sleeping_disorder         0\n",
       "chronic_stress            0\n",
       "worry                     0\n",
       "bipolar                   0\n",
       "ocd                       0\n",
       "dysmorphic                0\n",
       "borderline_personality    0\n",
       "PTSD                      0\n",
       "social_anxiety            0\n",
       "schizophrenia             0\n",
       "autism_disorder           0\n",
       "dissociative_disorder     0\n",
       "ADHD                      0\n",
       "grief                     0\n",
       "suicide                   0\n",
       "addiction                 0\n",
       "low_self_esteem           0\n",
       "anger_issues              0\n",
       "relationship_issues       0\n",
       "caregiver_fatigue         0\n",
       "phobias                   0\n",
       "academic_pressure         0\n",
       "dtype: int64"
      ]
     },
     "execution_count": 77,
     "metadata": {},
     "output_type": "execute_result"
    }
   ],
   "source": [
    "df_combined.isnull().sum()"
   ]
  },
  {
   "cell_type": "code",
   "execution_count": 78,
   "id": "550a1dbd-6471-436f-a637-3ce82c6deefa",
   "metadata": {},
   "outputs": [],
   "source": [
    "X = df_combined['input'] #(user message)\n",
    "y = df_combined.drop(columns=['input'])\n",
    "y = y.drop(columns=['output', 'instruction', 'family_issues', 'dysmorphic', 'suicide', 'schizophrenia', 'has_eating_disorder', 'phobias'])"
   ]
  },
  {
   "cell_type": "code",
   "execution_count": 79,
   "id": "b900b7ab-ec1a-4390-a4ba-29a7d3d00dfb",
   "metadata": {},
   "outputs": [
    {
     "data": {
      "text/plain": [
       "0        I think I might be developing a substance abus...\n",
       "1        Parenting has become such a challenge for me. ...\n",
       "2        Intimacy has always been a struggle for me. I ...\n",
       "3        I've been struggling with substance abuse for ...\n",
       "4        Being a parent is overwhelming and exhausting....\n",
       "                               ...                        \n",
       "16079    I'm feeling overwhelmed and guilty about my un...\n",
       "16080    I've been feeling overwhelmed lately, and I've...\n",
       "16081    I understand what you're saying, but I can't s...\n",
       "16082    I've been thinking about my relationship with ...\n",
       "16083    I've been feeling stressed out lately because ...\n",
       "Name: input, Length: 16084, dtype: object"
      ]
     },
     "execution_count": 79,
     "metadata": {},
     "output_type": "execute_result"
    }
   ],
   "source": [
    "X"
   ]
  },
  {
   "cell_type": "code",
   "execution_count": 80,
   "id": "5acdf616-19c9-4001-bbdc-1bcf0537e168",
   "metadata": {},
   "outputs": [
    {
     "data": {
      "text/plain": [
       "16084"
      ]
     },
     "execution_count": 80,
     "metadata": {},
     "output_type": "execute_result"
    }
   ],
   "source": [
    "len(X)"
   ]
  },
  {
   "cell_type": "code",
   "execution_count": 81,
   "id": "5edbfa52-de9c-48ad-9c39-c3f81a387e43",
   "metadata": {},
   "outputs": [
    {
     "data": {
      "text/plain": [
       "12867"
      ]
     },
     "execution_count": 81,
     "metadata": {},
     "output_type": "execute_result"
    }
   ],
   "source": [
    "len(y_train)"
   ]
  },
  {
   "cell_type": "code",
   "execution_count": 82,
   "id": "11e91c2c-5407-4a19-9d8b-4e5a52d0f520",
   "metadata": {},
   "outputs": [
    {
     "data": {
      "text/html": [
       "<div>\n",
       "<style scoped>\n",
       "    .dataframe tbody tr th:only-of-type {\n",
       "        vertical-align: middle;\n",
       "    }\n",
       "\n",
       "    .dataframe tbody tr th {\n",
       "        vertical-align: top;\n",
       "    }\n",
       "\n",
       "    .dataframe thead th {\n",
       "        text-align: right;\n",
       "    }\n",
       "</style>\n",
       "<table border=\"1\" class=\"dataframe\">\n",
       "  <thead>\n",
       "    <tr style=\"text-align: right;\">\n",
       "      <th></th>\n",
       "      <th>has_anxiety</th>\n",
       "      <th>has_depression</th>\n",
       "      <th>sleeping_disorder</th>\n",
       "      <th>chronic_stress</th>\n",
       "      <th>worry</th>\n",
       "      <th>bipolar</th>\n",
       "      <th>ocd</th>\n",
       "      <th>borderline_personality</th>\n",
       "      <th>PTSD</th>\n",
       "      <th>social_anxiety</th>\n",
       "      <th>autism_disorder</th>\n",
       "      <th>dissociative_disorder</th>\n",
       "      <th>ADHD</th>\n",
       "      <th>grief</th>\n",
       "      <th>addiction</th>\n",
       "      <th>low_self_esteem</th>\n",
       "      <th>anger_issues</th>\n",
       "      <th>relationship_issues</th>\n",
       "      <th>caregiver_fatigue</th>\n",
       "      <th>academic_pressure</th>\n",
       "    </tr>\n",
       "  </thead>\n",
       "  <tbody>\n",
       "    <tr>\n",
       "      <th>0</th>\n",
       "      <td>1</td>\n",
       "      <td>0</td>\n",
       "      <td>0</td>\n",
       "      <td>0</td>\n",
       "      <td>0</td>\n",
       "      <td>0</td>\n",
       "      <td>0</td>\n",
       "      <td>0</td>\n",
       "      <td>1</td>\n",
       "      <td>0</td>\n",
       "      <td>0</td>\n",
       "      <td>0</td>\n",
       "      <td>0</td>\n",
       "      <td>0</td>\n",
       "      <td>1</td>\n",
       "      <td>0</td>\n",
       "      <td>0</td>\n",
       "      <td>0</td>\n",
       "      <td>0</td>\n",
       "      <td>0</td>\n",
       "    </tr>\n",
       "    <tr>\n",
       "      <th>1</th>\n",
       "      <td>0</td>\n",
       "      <td>0</td>\n",
       "      <td>0</td>\n",
       "      <td>1</td>\n",
       "      <td>1</td>\n",
       "      <td>0</td>\n",
       "      <td>0</td>\n",
       "      <td>0</td>\n",
       "      <td>0</td>\n",
       "      <td>0</td>\n",
       "      <td>1</td>\n",
       "      <td>0</td>\n",
       "      <td>0</td>\n",
       "      <td>0</td>\n",
       "      <td>0</td>\n",
       "      <td>0</td>\n",
       "      <td>0</td>\n",
       "      <td>0</td>\n",
       "      <td>0</td>\n",
       "      <td>1</td>\n",
       "    </tr>\n",
       "    <tr>\n",
       "      <th>2</th>\n",
       "      <td>0</td>\n",
       "      <td>0</td>\n",
       "      <td>0</td>\n",
       "      <td>0</td>\n",
       "      <td>1</td>\n",
       "      <td>0</td>\n",
       "      <td>0</td>\n",
       "      <td>0</td>\n",
       "      <td>1</td>\n",
       "      <td>0</td>\n",
       "      <td>0</td>\n",
       "      <td>0</td>\n",
       "      <td>0</td>\n",
       "      <td>0</td>\n",
       "      <td>0</td>\n",
       "      <td>0</td>\n",
       "      <td>0</td>\n",
       "      <td>0</td>\n",
       "      <td>0</td>\n",
       "      <td>0</td>\n",
       "    </tr>\n",
       "    <tr>\n",
       "      <th>3</th>\n",
       "      <td>0</td>\n",
       "      <td>0</td>\n",
       "      <td>0</td>\n",
       "      <td>0</td>\n",
       "      <td>0</td>\n",
       "      <td>0</td>\n",
       "      <td>0</td>\n",
       "      <td>0</td>\n",
       "      <td>1</td>\n",
       "      <td>0</td>\n",
       "      <td>0</td>\n",
       "      <td>0</td>\n",
       "      <td>0</td>\n",
       "      <td>0</td>\n",
       "      <td>0</td>\n",
       "      <td>0</td>\n",
       "      <td>0</td>\n",
       "      <td>0</td>\n",
       "      <td>0</td>\n",
       "      <td>0</td>\n",
       "    </tr>\n",
       "    <tr>\n",
       "      <th>4</th>\n",
       "      <td>0</td>\n",
       "      <td>0</td>\n",
       "      <td>0</td>\n",
       "      <td>0</td>\n",
       "      <td>0</td>\n",
       "      <td>0</td>\n",
       "      <td>0</td>\n",
       "      <td>0</td>\n",
       "      <td>0</td>\n",
       "      <td>0</td>\n",
       "      <td>0</td>\n",
       "      <td>0</td>\n",
       "      <td>0</td>\n",
       "      <td>0</td>\n",
       "      <td>0</td>\n",
       "      <td>0</td>\n",
       "      <td>0</td>\n",
       "      <td>0</td>\n",
       "      <td>0</td>\n",
       "      <td>1</td>\n",
       "    </tr>\n",
       "    <tr>\n",
       "      <th>...</th>\n",
       "      <td>...</td>\n",
       "      <td>...</td>\n",
       "      <td>...</td>\n",
       "      <td>...</td>\n",
       "      <td>...</td>\n",
       "      <td>...</td>\n",
       "      <td>...</td>\n",
       "      <td>...</td>\n",
       "      <td>...</td>\n",
       "      <td>...</td>\n",
       "      <td>...</td>\n",
       "      <td>...</td>\n",
       "      <td>...</td>\n",
       "      <td>...</td>\n",
       "      <td>...</td>\n",
       "      <td>...</td>\n",
       "      <td>...</td>\n",
       "      <td>...</td>\n",
       "      <td>...</td>\n",
       "      <td>...</td>\n",
       "    </tr>\n",
       "    <tr>\n",
       "      <th>16079</th>\n",
       "      <td>1</td>\n",
       "      <td>0</td>\n",
       "      <td>0</td>\n",
       "      <td>1</td>\n",
       "      <td>0</td>\n",
       "      <td>0</td>\n",
       "      <td>0</td>\n",
       "      <td>0</td>\n",
       "      <td>0</td>\n",
       "      <td>0</td>\n",
       "      <td>1</td>\n",
       "      <td>0</td>\n",
       "      <td>0</td>\n",
       "      <td>0</td>\n",
       "      <td>0</td>\n",
       "      <td>0</td>\n",
       "      <td>0</td>\n",
       "      <td>0</td>\n",
       "      <td>0</td>\n",
       "      <td>0</td>\n",
       "    </tr>\n",
       "    <tr>\n",
       "      <th>16080</th>\n",
       "      <td>1</td>\n",
       "      <td>0</td>\n",
       "      <td>0</td>\n",
       "      <td>1</td>\n",
       "      <td>0</td>\n",
       "      <td>0</td>\n",
       "      <td>0</td>\n",
       "      <td>0</td>\n",
       "      <td>0</td>\n",
       "      <td>0</td>\n",
       "      <td>1</td>\n",
       "      <td>0</td>\n",
       "      <td>0</td>\n",
       "      <td>0</td>\n",
       "      <td>0</td>\n",
       "      <td>0</td>\n",
       "      <td>0</td>\n",
       "      <td>0</td>\n",
       "      <td>0</td>\n",
       "      <td>0</td>\n",
       "    </tr>\n",
       "    <tr>\n",
       "      <th>16081</th>\n",
       "      <td>0</td>\n",
       "      <td>0</td>\n",
       "      <td>0</td>\n",
       "      <td>0</td>\n",
       "      <td>0</td>\n",
       "      <td>0</td>\n",
       "      <td>0</td>\n",
       "      <td>0</td>\n",
       "      <td>0</td>\n",
       "      <td>0</td>\n",
       "      <td>0</td>\n",
       "      <td>0</td>\n",
       "      <td>0</td>\n",
       "      <td>0</td>\n",
       "      <td>0</td>\n",
       "      <td>0</td>\n",
       "      <td>0</td>\n",
       "      <td>0</td>\n",
       "      <td>0</td>\n",
       "      <td>0</td>\n",
       "    </tr>\n",
       "    <tr>\n",
       "      <th>16082</th>\n",
       "      <td>0</td>\n",
       "      <td>0</td>\n",
       "      <td>0</td>\n",
       "      <td>0</td>\n",
       "      <td>0</td>\n",
       "      <td>0</td>\n",
       "      <td>0</td>\n",
       "      <td>0</td>\n",
       "      <td>0</td>\n",
       "      <td>0</td>\n",
       "      <td>0</td>\n",
       "      <td>0</td>\n",
       "      <td>0</td>\n",
       "      <td>0</td>\n",
       "      <td>0</td>\n",
       "      <td>0</td>\n",
       "      <td>0</td>\n",
       "      <td>0</td>\n",
       "      <td>0</td>\n",
       "      <td>0</td>\n",
       "    </tr>\n",
       "    <tr>\n",
       "      <th>16083</th>\n",
       "      <td>0</td>\n",
       "      <td>0</td>\n",
       "      <td>0</td>\n",
       "      <td>1</td>\n",
       "      <td>0</td>\n",
       "      <td>0</td>\n",
       "      <td>0</td>\n",
       "      <td>0</td>\n",
       "      <td>0</td>\n",
       "      <td>0</td>\n",
       "      <td>0</td>\n",
       "      <td>0</td>\n",
       "      <td>0</td>\n",
       "      <td>0</td>\n",
       "      <td>0</td>\n",
       "      <td>0</td>\n",
       "      <td>0</td>\n",
       "      <td>0</td>\n",
       "      <td>0</td>\n",
       "      <td>0</td>\n",
       "    </tr>\n",
       "  </tbody>\n",
       "</table>\n",
       "<p>16084 rows × 20 columns</p>\n",
       "</div>"
      ],
      "text/plain": [
       "       has_anxiety  has_depression  sleeping_disorder  chronic_stress  worry  \\\n",
       "0                1               0                  0               0      0   \n",
       "1                0               0                  0               1      1   \n",
       "2                0               0                  0               0      1   \n",
       "3                0               0                  0               0      0   \n",
       "4                0               0                  0               0      0   \n",
       "...            ...             ...                ...             ...    ...   \n",
       "16079            1               0                  0               1      0   \n",
       "16080            1               0                  0               1      0   \n",
       "16081            0               0                  0               0      0   \n",
       "16082            0               0                  0               0      0   \n",
       "16083            0               0                  0               1      0   \n",
       "\n",
       "       bipolar  ocd  borderline_personality  PTSD  social_anxiety  \\\n",
       "0            0    0                       0     1               0   \n",
       "1            0    0                       0     0               0   \n",
       "2            0    0                       0     1               0   \n",
       "3            0    0                       0     1               0   \n",
       "4            0    0                       0     0               0   \n",
       "...        ...  ...                     ...   ...             ...   \n",
       "16079        0    0                       0     0               0   \n",
       "16080        0    0                       0     0               0   \n",
       "16081        0    0                       0     0               0   \n",
       "16082        0    0                       0     0               0   \n",
       "16083        0    0                       0     0               0   \n",
       "\n",
       "       autism_disorder  dissociative_disorder  ADHD  grief  addiction  \\\n",
       "0                    0                      0     0      0          1   \n",
       "1                    1                      0     0      0          0   \n",
       "2                    0                      0     0      0          0   \n",
       "3                    0                      0     0      0          0   \n",
       "4                    0                      0     0      0          0   \n",
       "...                ...                    ...   ...    ...        ...   \n",
       "16079                1                      0     0      0          0   \n",
       "16080                1                      0     0      0          0   \n",
       "16081                0                      0     0      0          0   \n",
       "16082                0                      0     0      0          0   \n",
       "16083                0                      0     0      0          0   \n",
       "\n",
       "       low_self_esteem  anger_issues  relationship_issues  caregiver_fatigue  \\\n",
       "0                    0             0                    0                  0   \n",
       "1                    0             0                    0                  0   \n",
       "2                    0             0                    0                  0   \n",
       "3                    0             0                    0                  0   \n",
       "4                    0             0                    0                  0   \n",
       "...                ...           ...                  ...                ...   \n",
       "16079                0             0                    0                  0   \n",
       "16080                0             0                    0                  0   \n",
       "16081                0             0                    0                  0   \n",
       "16082                0             0                    0                  0   \n",
       "16083                0             0                    0                  0   \n",
       "\n",
       "       academic_pressure  \n",
       "0                      0  \n",
       "1                      1  \n",
       "2                      0  \n",
       "3                      0  \n",
       "4                      1  \n",
       "...                  ...  \n",
       "16079                  0  \n",
       "16080                  0  \n",
       "16081                  0  \n",
       "16082                  0  \n",
       "16083                  0  \n",
       "\n",
       "[16084 rows x 20 columns]"
      ]
     },
     "execution_count": 82,
     "metadata": {},
     "output_type": "execute_result"
    }
   ],
   "source": [
    "y"
   ]
  },
  {
   "cell_type": "code",
   "execution_count": 83,
   "id": "8547e636-12c4-4878-9dec-8f6b5a20995a",
   "metadata": {},
   "outputs": [],
   "source": [
    "from sklearn.linear_model import LogisticRegression\n",
    "from sklearn.ensemble import RandomForestClassifier\n",
    "from sklearn.multioutput import MultiOutputClassifier\n",
    "from sklearn.model_selection import train_test_split"
   ]
  },
  {
   "cell_type": "code",
   "execution_count": 84,
   "id": "e700ff1d-bbf8-4559-969b-bbe9e74f910a",
   "metadata": {},
   "outputs": [],
   "source": [
    "X_train_vectorized, X_test_vectorized, y_train, y_test = train_test_split(\n",
    "    X_vectorized, y, test_size=0.2, random_state=42\n",
    ")"
   ]
  },
  {
   "cell_type": "code",
   "execution_count": 85,
   "id": "2158ca6a-290c-40a7-a27e-4f32ff558ef0",
   "metadata": {},
   "outputs": [],
   "source": [
    "from sklearn.feature_extraction.text import TfidfVectorizer\n",
    "\n",
    "vectorizer = TfidfVectorizer(ngram_range=(1,2), max_features=5000)\n",
    "X_vectorized = vectorizer.fit_transform(X)"
   ]
  },
  {
   "cell_type": "code",
   "execution_count": null,
   "id": "73b49c3a-767d-4a06-86e2-fe05d3fadc12",
   "metadata": {},
   "outputs": [],
   "source": [
    "model = MultiOutputClassifier(LogisticRegression(class_weight='balanced', max_iter=1000))\n",
    "model = MultiOutputClassifier(RandomForestClassifier())\n",
    "\n",
    "model.fit(X_train_vectorized, y_train)\n"
   ]
  },
  {
   "cell_type": "code",
   "execution_count": null,
   "id": "c8c7b72c-6d4b-47c0-aab4-3a21476a0b8f",
   "metadata": {},
   "outputs": [],
   "source": [
    "import numpy as np\n",
    "\n",
    "# Get the list of prediction probabilities (one array per label)\n",
    "proba_list = model.predict_proba(X_test_vectorized)\n",
    "\n",
    "# Apply threshold (e.g., 0.3) to each array in the list\n",
    "y_test_pred = (np.array([score[:, 1] for score in proba_list]).T > 0.4).astype(int)\n"
   ]
  },
  {
   "cell_type": "code",
   "execution_count": null,
   "id": "bc6ae101-b1ec-4db1-a99b-f08d9f7ef3e9",
   "metadata": {},
   "outputs": [],
   "source": [
    "print(y_test_pred)"
   ]
  },
  {
   "cell_type": "code",
   "execution_count": null,
   "id": "555bf0ac-3719-4322-bc0e-5e5813c1e39c",
   "metadata": {},
   "outputs": [],
   "source": [
    "from sklearn.metrics import accuracy_score\n",
    "print(\"Accuracy:\", accuracy_score(y_test, y_test_pred))"
   ]
  },
  {
   "cell_type": "code",
   "execution_count": null,
   "id": "e86bb7bd-bc26-4995-9166-4cbb24540afb",
   "metadata": {},
   "outputs": [],
   "source": [
    "from sklearn.metrics import hamming_loss\n",
    "print(\"Hamming Loss:\", hamming_loss(y_test, y_test_pred))"
   ]
  },
  {
   "cell_type": "code",
   "execution_count": null,
   "id": "82c0d1bb-d720-4cac-b6bb-abc5e03d381a",
   "metadata": {
    "scrolled": true
   },
   "outputs": [],
   "source": [
    "from sklearn.metrics import f1_score\n",
    "print(\"F1 (micro):\", f1_score(y_test, y_test_pred, average='micro'))\n",
    "print(\"F1 (macro):\", f1_score(y_test, y_test_pred, average='macro'))"
   ]
  },
  {
   "cell_type": "code",
   "execution_count": null,
   "id": "ef917b74-c187-46b4-8be0-c86d2cee2ed8",
   "metadata": {
    "scrolled": true
   },
   "outputs": [],
   "source": [
    "from sklearn.metrics import classification_report\n",
    "print(classification_report(y_test, y_test_pred, target_names=y.columns))\n",
    "\n",
    "\n",
    "from sklearn.metrics import classification_report\n",
    "\n",
    "print(classification_report(\n",
    "    y_test, y_test_pred,\n",
    "    target_names=y.columns,\n",
    "    zero_division=0  # This removes the warning\n",
    "))\n",
    "\n",
    "\n"
   ]
  },
  {
   "cell_type": "code",
   "execution_count": 98,
   "id": "d4c9c791-1079-4b7d-a448-e754ff6c444d",
   "metadata": {},
   "outputs": [],
   "source": [
    "num_classes = y.shape[1]"
   ]
  },
  {
   "cell_type": "code",
   "execution_count": 151,
   "id": "7282687b-6471-4623-b93b-3c8e5f82ad71",
   "metadata": {},
   "outputs": [
    {
     "data": {
      "text/plain": [
       "['psychai_model.pkl']"
      ]
     },
     "execution_count": 151,
     "metadata": {},
     "output_type": "execute_result"
    }
   ],
   "source": [
    "import joblib\n",
    "\n",
    "# Save model\n",
    "joblib.dump(model, \"psychai_model.pkl\")"
   ]
  },
  {
   "cell_type": "code",
   "execution_count": 152,
   "id": "70f65b4f-c300-4d3e-8798-09bf6acc61fd",
   "metadata": {},
   "outputs": [
    {
     "data": {
      "text/plain": [
       "['psychai_vectorizer.pkl']"
      ]
     },
     "execution_count": 152,
     "metadata": {},
     "output_type": "execute_result"
    }
   ],
   "source": [
    "#Save the vectorizer (e.g., TfidfVectorizer)\n",
    "joblib.dump(vectorizer, \"psychai_vectorizer.pkl\")"
   ]
  },
  {
   "cell_type": "code",
   "execution_count": 148,
   "id": "fde83cf3-fffd-40b6-99c7-6dd2d2c0b5c6",
   "metadata": {},
   "outputs": [],
   "source": [
    "loaded_model = joblib.load(\"psychai_model.pkl\")  # Load the trained model"
   ]
  },
  {
   "cell_type": "code",
   "execution_count": 149,
   "id": "4c1142c7-0d3b-4302-83f1-fa9729b012c0",
   "metadata": {},
   "outputs": [],
   "source": [
    "preds = loaded_model.predict(X_test_vectorized)"
   ]
  },
  {
   "cell_type": "code",
   "execution_count": 47,
   "id": "6523dee4-197e-46bc-90d8-9c0cf221ad02",
   "metadata": {},
   "outputs": [],
   "source": [
    "labels = y.columns"
   ]
  },
  {
   "cell_type": "code",
   "execution_count": 48,
   "id": "25171513-5849-4be6-89f8-4ad94a0469b1",
   "metadata": {},
   "outputs": [
    {
     "data": {
      "text/plain": [
       "20"
      ]
     },
     "execution_count": 48,
     "metadata": {},
     "output_type": "execute_result"
    }
   ],
   "source": [
    "len(labels)"
   ]
  },
  {
   "cell_type": "code",
   "execution_count": 60,
   "id": "71e17287-e843-4c97-9b6b-58aa1fe380d0",
   "metadata": {},
   "outputs": [
    {
     "name": "stdout",
     "output_type": "stream",
     "text": [
      "4.53.0\n"
     ]
    }
   ],
   "source": [
    "import transformers\n",
    "print(transformers.__version__)"
   ]
  },
  {
   "cell_type": "code",
   "execution_count": null,
   "id": "7e7a60ac-38da-45f0-ab12-d18532833e6a",
   "metadata": {},
   "outputs": [],
   "source": []
  }
 ],
 "metadata": {
  "kernelspec": {
   "display_name": "Python 3 (ipykernel)",
   "language": "python",
   "name": "python3"
  },
  "language_info": {
   "codemirror_mode": {
    "name": "ipython",
    "version": 3
   },
   "file_extension": ".py",
   "mimetype": "text/x-python",
   "name": "python",
   "nbconvert_exporter": "python",
   "pygments_lexer": "ipython3",
   "version": "3.12.6"
  }
 },
 "nbformat": 4,
 "nbformat_minor": 5
}
